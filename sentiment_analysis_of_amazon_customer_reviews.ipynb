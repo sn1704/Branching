{
  "cells": [
    {
      "cell_type": "markdown",
      "metadata": {
        "_cell_guid": "b1076dfc-b9ad-4769-8c92-a6c4dae69d19",
        "_uuid": "8f2839f25d086af736a60e9eeb907d3b93b6e0e5",
        "id": "5mKT_PeSbajc"
      },
      "source": [
        "# Sentiment Analysis in Python\n",
        "\n",
        "\n",
        "\n",
        "In this notebook we will be doing some sentiment analysis in python using this technique:\n",
        "1. VADER (Valence Aware Dictionary and sEntiment Reasoner) - Bag of words approach\n"
      ]
    },
    {
      "cell_type": "markdown",
      "metadata": {
        "id": "K3RuNsffbajh"
      },
      "source": [
        "# Step 0. Read in Data and NLTK Basics"
      ]
    },
    {
      "cell_type": "code",
      "execution_count": null,
      "metadata": {
        "execution": {
          "iopub.execute_input": "2023-11-14T18:58:00.423880Z",
          "iopub.status.busy": "2023-11-14T18:58:00.423380Z",
          "iopub.status.idle": "2023-11-14T18:58:02.584102Z",
          "shell.execute_reply": "2023-11-14T18:58:02.582849Z",
          "shell.execute_reply.started": "2023-11-14T18:58:00.423736Z"
        },
        "trusted": true,
        "id": "Gx5YGYX9bajh"
      },
      "outputs": [],
      "source": [
        "import pandas as pd\n",
        "import numpy as np\n",
        "import matplotlib.pyplot as plt\n",
        "import seaborn as sns\n",
        "\n",
        "plt.style.use('ggplot')\n",
        "\n",
        "import nltk"
      ]
    },
    {
      "cell_type": "code",
      "execution_count": null,
      "metadata": {
        "execution": {
          "iopub.execute_input": "2023-11-14T18:58:02.586248Z",
          "iopub.status.busy": "2023-11-14T18:58:02.585987Z",
          "iopub.status.idle": "2023-11-14T18:58:11.810049Z",
          "shell.execute_reply": "2023-11-14T18:58:11.809029Z",
          "shell.execute_reply.started": "2023-11-14T18:58:02.586214Z"
        },
        "trusted": true,
        "id": "4Vxm89Nabajj",
        "outputId": "ccc28652-7cac-4f84-c445-8d823aeea13f"
      },
      "outputs": [
        {
          "name": "stdout",
          "output_type": "stream",
          "text": [
            "(568454, 10)\n",
            "(500, 10)\n"
          ]
        }
      ],
      "source": [
        "# Read in data\n",
        "df = pd.read_csv('../input/amazon-fine-food-reviews/Reviews.csv')\n",
        "print(df.shape)\n",
        "df = df.head(500)\n",
        "print(df.shape)"
      ]
    },
    {
      "cell_type": "code",
      "execution_count": null,
      "metadata": {
        "execution": {
          "iopub.execute_input": "2023-11-14T18:58:52.523651Z",
          "iopub.status.busy": "2023-11-14T18:58:52.523261Z",
          "iopub.status.idle": "2023-11-14T18:58:52.552995Z",
          "shell.execute_reply": "2023-11-14T18:58:52.552322Z",
          "shell.execute_reply.started": "2023-11-14T18:58:52.523612Z"
        },
        "trusted": true,
        "id": "5BFXVfhUbajk",
        "outputId": "1bdf4802-c6d4-49a1-8a3f-c1bdf8ffc73e"
      },
      "outputs": [
        {
          "data": {
            "text/html": [
              "<div>\n",
              "<style scoped>\n",
              "    .dataframe tbody tr th:only-of-type {\n",
              "        vertical-align: middle;\n",
              "    }\n",
              "\n",
              "    .dataframe tbody tr th {\n",
              "        vertical-align: top;\n",
              "    }\n",
              "\n",
              "    .dataframe thead th {\n",
              "        text-align: right;\n",
              "    }\n",
              "</style>\n",
              "<table border=\"1\" class=\"dataframe\">\n",
              "  <thead>\n",
              "    <tr style=\"text-align: right;\">\n",
              "      <th></th>\n",
              "      <th>Id</th>\n",
              "      <th>ProductId</th>\n",
              "      <th>UserId</th>\n",
              "      <th>ProfileName</th>\n",
              "      <th>HelpfulnessNumerator</th>\n",
              "      <th>HelpfulnessDenominator</th>\n",
              "      <th>Score</th>\n",
              "      <th>Time</th>\n",
              "      <th>Summary</th>\n",
              "      <th>Text</th>\n",
              "    </tr>\n",
              "  </thead>\n",
              "  <tbody>\n",
              "    <tr>\n",
              "      <th>0</th>\n",
              "      <td>1</td>\n",
              "      <td>B001E4KFG0</td>\n",
              "      <td>A3SGXH7AUHU8GW</td>\n",
              "      <td>delmartian</td>\n",
              "      <td>1</td>\n",
              "      <td>1</td>\n",
              "      <td>5</td>\n",
              "      <td>1303862400</td>\n",
              "      <td>Good Quality Dog Food</td>\n",
              "      <td>I have bought several of the Vitality canned d...</td>\n",
              "    </tr>\n",
              "    <tr>\n",
              "      <th>1</th>\n",
              "      <td>2</td>\n",
              "      <td>B00813GRG4</td>\n",
              "      <td>A1D87F6ZCVE5NK</td>\n",
              "      <td>dll pa</td>\n",
              "      <td>0</td>\n",
              "      <td>0</td>\n",
              "      <td>1</td>\n",
              "      <td>1346976000</td>\n",
              "      <td>Not as Advertised</td>\n",
              "      <td>Product arrived labeled as Jumbo Salted Peanut...</td>\n",
              "    </tr>\n",
              "    <tr>\n",
              "      <th>2</th>\n",
              "      <td>3</td>\n",
              "      <td>B000LQOCH0</td>\n",
              "      <td>ABXLMWJIXXAIN</td>\n",
              "      <td>Natalia Corres \"Natalia Corres\"</td>\n",
              "      <td>1</td>\n",
              "      <td>1</td>\n",
              "      <td>4</td>\n",
              "      <td>1219017600</td>\n",
              "      <td>\"Delight\" says it all</td>\n",
              "      <td>This is a confection that has been around a fe...</td>\n",
              "    </tr>\n",
              "    <tr>\n",
              "      <th>3</th>\n",
              "      <td>4</td>\n",
              "      <td>B000UA0QIQ</td>\n",
              "      <td>A395BORC6FGVXV</td>\n",
              "      <td>Karl</td>\n",
              "      <td>3</td>\n",
              "      <td>3</td>\n",
              "      <td>2</td>\n",
              "      <td>1307923200</td>\n",
              "      <td>Cough Medicine</td>\n",
              "      <td>If you are looking for the secret ingredient i...</td>\n",
              "    </tr>\n",
              "    <tr>\n",
              "      <th>4</th>\n",
              "      <td>5</td>\n",
              "      <td>B006K2ZZ7K</td>\n",
              "      <td>A1UQRSCLF8GW1T</td>\n",
              "      <td>Michael D. Bigham \"M. Wassir\"</td>\n",
              "      <td>0</td>\n",
              "      <td>0</td>\n",
              "      <td>5</td>\n",
              "      <td>1350777600</td>\n",
              "      <td>Great taffy</td>\n",
              "      <td>Great taffy at a great price.  There was a wid...</td>\n",
              "    </tr>\n",
              "  </tbody>\n",
              "</table>\n",
              "</div>"
            ],
            "text/plain": [
              "   Id   ProductId          UserId                      ProfileName  \\\n",
              "0   1  B001E4KFG0  A3SGXH7AUHU8GW                       delmartian   \n",
              "1   2  B00813GRG4  A1D87F6ZCVE5NK                           dll pa   \n",
              "2   3  B000LQOCH0   ABXLMWJIXXAIN  Natalia Corres \"Natalia Corres\"   \n",
              "3   4  B000UA0QIQ  A395BORC6FGVXV                             Karl   \n",
              "4   5  B006K2ZZ7K  A1UQRSCLF8GW1T    Michael D. Bigham \"M. Wassir\"   \n",
              "\n",
              "   HelpfulnessNumerator  HelpfulnessDenominator  Score        Time  \\\n",
              "0                     1                       1      5  1303862400   \n",
              "1                     0                       0      1  1346976000   \n",
              "2                     1                       1      4  1219017600   \n",
              "3                     3                       3      2  1307923200   \n",
              "4                     0                       0      5  1350777600   \n",
              "\n",
              "                 Summary                                               Text  \n",
              "0  Good Quality Dog Food  I have bought several of the Vitality canned d...  \n",
              "1      Not as Advertised  Product arrived labeled as Jumbo Salted Peanut...  \n",
              "2  \"Delight\" says it all  This is a confection that has been around a fe...  \n",
              "3         Cough Medicine  If you are looking for the secret ingredient i...  \n",
              "4            Great taffy  Great taffy at a great price.  There was a wid...  "
            ]
          },
          "execution_count": 3,
          "metadata": {},
          "output_type": "execute_result"
        }
      ],
      "source": [
        "df.head()"
      ]
    },
    {
      "cell_type": "markdown",
      "metadata": {
        "id": "j9CvjYv7bajk"
      },
      "source": [
        "## Quick EDA"
      ]
    },
    {
      "cell_type": "code",
      "execution_count": null,
      "metadata": {
        "execution": {
          "iopub.execute_input": "2023-11-14T18:58:57.276134Z",
          "iopub.status.busy": "2023-11-14T18:58:57.275788Z",
          "iopub.status.idle": "2023-11-14T18:58:57.579013Z",
          "shell.execute_reply": "2023-11-14T18:58:57.577939Z",
          "shell.execute_reply.started": "2023-11-14T18:58:57.276096Z"
        },
        "trusted": true,
        "id": "PKGLXqkkbajl",
        "outputId": "8c185314-1e0e-4f04-f6cf-2188dfd18406"
      },
      "outputs": [
        {
          "data": {
            "image/png": "[encoded data removed]",
            "text/plain": [
              "<Figure size 720x360 with 1 Axes>"
            ]
          },
          "metadata": {},
          "output_type": "display_data"
        }
      ],
      "source": [
        "ax = df['Score'].value_counts().sort_index() \\\n",
        "    .plot(kind='bar',\n",
        "          title='Count of Reviews by Stars',\n",
        "          figsize=(10, 5))\n",
        "ax.set_xlabel('Review Stars')\n",
        "plt.show()"
      ]
    },
    {
      "cell_type": "markdown",
      "metadata": {
        "id": "g4u3g_pZbajl"
      },
      "source": [
        "## Basic NLTK"
      ]
    },
    {
      "cell_type": "code",
      "execution_count": null,
      "metadata": {
        "execution": {
          "iopub.execute_input": "2023-11-14T18:58:59.707896Z",
          "iopub.status.busy": "2023-11-14T18:58:59.706981Z",
          "iopub.status.idle": "2023-11-14T18:58:59.715174Z",
          "shell.execute_reply": "2023-11-14T18:58:59.714004Z",
          "shell.execute_reply.started": "2023-11-14T18:58:59.707834Z"
        },
        "trusted": true,
        "id": "RS9NT2NDbajl",
        "outputId": "a4e63772-4b6a-4686-bbdd-065ca5950154"
      },
      "outputs": [
        {
          "name": "stdout",
          "output_type": "stream",
          "text": [
            "This oatmeal is not good. Its mushy, soft, I don't like it. Quaker Oats is the way to go.\n"
          ]
        }
      ],
      "source": [
        "example = df['Text'][50]\n",
        "print(example)"
      ]
    },
    {
      "cell_type": "code",
      "execution_count": null,
      "metadata": {
        "execution": {
          "iopub.execute_input": "2023-11-14T18:59:01.104684Z",
          "iopub.status.busy": "2023-11-14T18:59:01.104156Z",
          "iopub.status.idle": "2023-11-14T18:59:01.130890Z",
          "shell.execute_reply": "2023-11-14T18:59:01.129709Z",
          "shell.execute_reply.started": "2023-11-14T18:59:01.104629Z"
        },
        "trusted": true,
        "id": "wl6LdwDGbajl",
        "outputId": "29b5ee2c-3f32-45ac-e95e-2d1f4310be6d"
      },
      "outputs": [
        {
          "data": {
            "text/plain": [
              "['This', 'oatmeal', 'is', 'not', 'good', '.', 'Its', 'mushy', ',', 'soft']"
            ]
          },
          "execution_count": 6,
          "metadata": {},
          "output_type": "execute_result"
        }
      ],
      "source": [
        "tokens = nltk.word_tokenize(example)\n",
        "tokens[:10]"
      ]
    },
    {
      "cell_type": "code",
      "execution_count": null,
      "metadata": {
        "execution": {
          "iopub.execute_input": "2023-11-14T18:59:02.136722Z",
          "iopub.status.busy": "2023-11-14T18:59:02.135643Z",
          "iopub.status.idle": "2023-11-14T18:59:02.307158Z",
          "shell.execute_reply": "2023-11-14T18:59:02.306462Z",
          "shell.execute_reply.started": "2023-11-14T18:59:02.136681Z"
        },
        "trusted": true,
        "id": "jUJjH5ipbajm",
        "outputId": "55200531-ceda-4bcc-e950-55ff2fb34340"
      },
      "outputs": [
        {
          "data": {
            "text/plain": [
              "[('This', 'DT'),\n",
              " ('oatmeal', 'NN'),\n",
              " ('is', 'VBZ'),\n",
              " ('not', 'RB'),\n",
              " ('good', 'JJ'),\n",
              " ('.', '.'),\n",
              " ('Its', 'PRP$'),\n",
              " ('mushy', 'NN'),\n",
              " (',', ','),\n",
              " ('soft', 'JJ')]"
            ]
          },
          "execution_count": 7,
          "metadata": {},
          "output_type": "execute_result"
        }
      ],
      "source": [
        "tagged = nltk.pos_tag(tokens)\n",
        "tagged[:10]"
      ]
    },
    {
      "cell_type": "code",
      "execution_count": null,
      "metadata": {
        "execution": {
          "iopub.execute_input": "2023-11-14T18:59:03.645119Z",
          "iopub.status.busy": "2023-11-14T18:59:03.644548Z",
          "iopub.status.idle": "2023-11-14T18:59:03.853425Z",
          "shell.execute_reply": "2023-11-14T18:59:03.852695Z",
          "shell.execute_reply.started": "2023-11-14T18:59:03.645080Z"
        },
        "trusted": true,
        "id": "R7jALW3Dbajm",
        "outputId": "3c45339c-68c9-4417-b6a7-34b70359aa62"
      },
      "outputs": [
        {
          "name": "stdout",
          "output_type": "stream",
          "text": [
            "(S\n",
            "  This/DT\n",
            "  oatmeal/NN\n",
            "  is/VBZ\n",
            "  not/RB\n",
            "  good/JJ\n",
            "  ./.\n",
            "  Its/PRP$\n",
            "  mushy/NN\n",
            "  ,/,\n",
            "  soft/JJ\n",
            "  ,/,\n",
            "  I/PRP\n",
            "  do/VBP\n",
            "  n't/RB\n",
            "  like/VB\n",
            "  it/PRP\n",
            "  ./.\n",
            "  (ORGANIZATION Quaker/NNP Oats/NNPS)\n",
            "  is/VBZ\n",
            "  the/DT\n",
            "  way/NN\n",
            "  to/TO\n",
            "  go/VB\n",
            "  ./.)\n"
          ]
        }
      ],
      "source": [
        "entities = nltk.chunk.ne_chunk(tagged)\n",
        "entities.pprint()"
      ]
    },
    {
      "cell_type": "markdown",
      "metadata": {
        "id": "bEJiIO6lbajn"
      },
      "source": [
        "# Step 1. VADER Seniment Scoring\n",
        "\n",
        "We will use NLTK's `SentimentIntensityAnalyzer` to get the neg/neu/pos scores of the text.\n",
        "\n",
        "- This uses a \"bag of words\" approach:\n",
        "    1. Stop words are removed\n",
        "    2. each word is scored and combined to a total score."
      ]
    },
    {
      "cell_type": "code",
      "execution_count": null,
      "metadata": {
        "execution": {
          "iopub.execute_input": "2023-11-14T18:59:07.119245Z",
          "iopub.status.busy": "2023-11-14T18:59:07.118900Z",
          "iopub.status.idle": "2023-11-14T18:59:07.162380Z",
          "shell.execute_reply": "2023-11-14T18:59:07.161661Z",
          "shell.execute_reply.started": "2023-11-14T18:59:07.119211Z"
        },
        "trusted": true,
        "id": "ZpHCf2ECbajn",
        "outputId": "4f2cadc7-9b63-4cd4-a8a2-ca44a463cbb5"
      },
      "outputs": [
        {
          "name": "stderr",
          "output_type": "stream",
          "text": [
            "/opt/conda/lib/python3.7/site-packages/nltk/twitter/__init__.py:20: UserWarning: The twython library has not been installed. Some functionality from the twitter package will not be available.\n",
            "  warnings.warn(\"The twython library has not been installed. \"\n"
          ]
        }
      ],
      "source": [
        "from nltk.sentiment import SentimentIntensityAnalyzer\n",
        "from tqdm.notebook import tqdm\n",
        "\n",
        "sia = SentimentIntensityAnalyzer()"
      ]
    },
    {
      "cell_type": "code",
      "execution_count": null,
      "metadata": {
        "execution": {
          "iopub.execute_input": "2023-11-14T18:59:11.051970Z",
          "iopub.status.busy": "2023-11-14T18:59:11.051417Z",
          "iopub.status.idle": "2023-11-14T18:59:11.059546Z",
          "shell.execute_reply": "2023-11-14T18:59:11.058458Z",
          "shell.execute_reply.started": "2023-11-14T18:59:11.051930Z"
        },
        "trusted": true,
        "id": "CP0DjsbKbajn",
        "outputId": "6093a56a-e7c1-491d-d46c-30b0bcf6264b"
      },
      "outputs": [
        {
          "data": {
            "text/plain": [
              "{'neg': 0.0, 'neu': 0.318, 'pos': 0.682, 'compound': 0.6468}"
            ]
          },
          "execution_count": 10,
          "metadata": {},
          "output_type": "execute_result"
        }
      ],
      "source": [
        "sia.polarity_scores('I am so happy!')"
      ]
    },
    {
      "cell_type": "code",
      "execution_count": null,
      "metadata": {
        "execution": {
          "iopub.execute_input": "2023-11-14T18:59:13.113897Z",
          "iopub.status.busy": "2023-11-14T18:59:13.113529Z",
          "iopub.status.idle": "2023-11-14T18:59:13.121858Z",
          "shell.execute_reply": "2023-11-14T18:59:13.120709Z",
          "shell.execute_reply.started": "2023-11-14T18:59:13.113861Z"
        },
        "trusted": true,
        "id": "RP6y2IJBbajn",
        "outputId": "49372553-cdec-473f-9594-3654693ddcca"
      },
      "outputs": [
        {
          "data": {
            "text/plain": [
              "{'neg': 0.451, 'neu': 0.549, 'pos': 0.0, 'compound': -0.6249}"
            ]
          },
          "execution_count": 11,
          "metadata": {},
          "output_type": "execute_result"
        }
      ],
      "source": [
        "sia.polarity_scores('This is the worst thing ever.')"
      ]
    },
    {
      "cell_type": "code",
      "execution_count": null,
      "metadata": {
        "execution": {
          "iopub.execute_input": "2023-11-14T18:59:14.139753Z",
          "iopub.status.busy": "2023-11-14T18:59:14.139403Z",
          "iopub.status.idle": "2023-11-14T18:59:14.148730Z",
          "shell.execute_reply": "2023-11-14T18:59:14.147390Z",
          "shell.execute_reply.started": "2023-11-14T18:59:14.139718Z"
        },
        "trusted": true,
        "id": "kcr4jHETbajo",
        "outputId": "0e8d4241-6208-49be-80cb-55b256f67f1d"
      },
      "outputs": [
        {
          "data": {
            "text/plain": [
              "{'neg': 0.22, 'neu': 0.78, 'pos': 0.0, 'compound': -0.5448}"
            ]
          },
          "execution_count": 12,
          "metadata": {},
          "output_type": "execute_result"
        }
      ],
      "source": [
        "sia.polarity_scores(example)"
      ]
    },
    {
      "cell_type": "code",
      "execution_count": null,
      "metadata": {
        "execution": {
          "iopub.execute_input": "2023-11-14T18:59:15.373284Z",
          "iopub.status.busy": "2023-11-14T18:59:15.372974Z",
          "iopub.status.idle": "2023-11-14T18:59:16.118951Z",
          "shell.execute_reply": "2023-11-14T18:59:16.118015Z",
          "shell.execute_reply.started": "2023-11-14T18:59:15.373251Z"
        },
        "trusted": true,
        "colab": {
          "referenced_widgets": [
            "5869c0e471ab45649c50574a80db4495"
          ]
        },
        "id": "i3Rqa2-lbajo",
        "outputId": "58453e93-5dfd-4e26-d101-9edbea827a1d"
      },
      "outputs": [
        {
          "data": {
            "application/vnd.jupyter.widget-view+json": {
              "model_id": "5869c0e471ab45649c50574a80db4495",
              "version_major": 2,
              "version_minor": 0
            },
            "text/plain": [
              "  0%|          | 0/500 [00:00<?, ?it/s]"
            ]
          },
          "metadata": {},
          "output_type": "display_data"
        }
      ],
      "source": [
        "# Run the polarity score on the entire dataset\n",
        "res = {}\n",
        "for i, row in tqdm(df.iterrows(), total=len(df)):\n",
        "    text = row['Text']\n",
        "    myid = row['Id']\n",
        "    res[myid] = sia.polarity_scores(text)"
      ]
    },
    {
      "cell_type": "code",
      "execution_count": null,
      "metadata": {
        "execution": {
          "iopub.execute_input": "2023-11-14T18:59:18.562125Z",
          "iopub.status.busy": "2023-11-14T18:59:18.561708Z",
          "iopub.status.idle": "2023-11-14T18:59:18.609455Z",
          "shell.execute_reply": "2023-11-14T18:59:18.608615Z",
          "shell.execute_reply.started": "2023-11-14T18:59:18.562083Z"
        },
        "trusted": true,
        "id": "w8SDRV5Mbajo"
      },
      "outputs": [],
      "source": [
        "vaders = pd.DataFrame(res).T\n",
        "vaders = vaders.reset_index().rename(columns={'index': 'Id'})\n",
        "vaders = vaders.merge(df, how='left')"
      ]
    },
    {
      "cell_type": "code",
      "execution_count": null,
      "metadata": {
        "execution": {
          "iopub.execute_input": "2023-11-14T18:59:28.948705Z",
          "iopub.status.busy": "2023-11-14T18:59:28.948342Z",
          "iopub.status.idle": "2023-11-14T18:59:28.971785Z",
          "shell.execute_reply": "2023-11-14T18:59:28.970619Z",
          "shell.execute_reply.started": "2023-11-14T18:59:28.948668Z"
        },
        "trusted": true,
        "id": "iaTaSwtubajo",
        "outputId": "32f2ea76-f15f-4157-ae7b-86cd5e2d3a6a"
      },
      "outputs": [
        {
          "data": {
            "text/html": [
              "<div>\n",
              "<style scoped>\n",
              "    .dataframe tbody tr th:only-of-type {\n",
              "        vertical-align: middle;\n",
              "    }\n",
              "\n",
              "    .dataframe tbody tr th {\n",
              "        vertical-align: top;\n",
              "    }\n",
              "\n",
              "    .dataframe thead th {\n",
              "        text-align: right;\n",
              "    }\n",
              "</style>\n",
              "<table border=\"1\" class=\"dataframe\">\n",
              "  <thead>\n",
              "    <tr style=\"text-align: right;\">\n",
              "      <th></th>\n",
              "      <th>Id</th>\n",
              "      <th>neg</th>\n",
              "      <th>neu</th>\n",
              "      <th>pos</th>\n",
              "      <th>compound</th>\n",
              "      <th>ProductId</th>\n",
              "      <th>UserId</th>\n",
              "      <th>ProfileName</th>\n",
              "      <th>HelpfulnessNumerator</th>\n",
              "      <th>HelpfulnessDenominator</th>\n",
              "      <th>Score</th>\n",
              "      <th>Time</th>\n",
              "      <th>Summary</th>\n",
              "      <th>Text</th>\n",
              "    </tr>\n",
              "  </thead>\n",
              "  <tbody>\n",
              "    <tr>\n",
              "      <th>0</th>\n",
              "      <td>1</td>\n",
              "      <td>0.000</td>\n",
              "      <td>0.695</td>\n",
              "      <td>0.305</td>\n",
              "      <td>0.9441</td>\n",
              "      <td>B001E4KFG0</td>\n",
              "      <td>A3SGXH7AUHU8GW</td>\n",
              "      <td>delmartian</td>\n",
              "      <td>1</td>\n",
              "      <td>1</td>\n",
              "      <td>5</td>\n",
              "      <td>1303862400</td>\n",
              "      <td>Good Quality Dog Food</td>\n",
              "      <td>I have bought several of the Vitality canned d...</td>\n",
              "    </tr>\n",
              "    <tr>\n",
              "      <th>1</th>\n",
              "      <td>2</td>\n",
              "      <td>0.079</td>\n",
              "      <td>0.853</td>\n",
              "      <td>0.068</td>\n",
              "      <td>-0.1027</td>\n",
              "      <td>B00813GRG4</td>\n",
              "      <td>A1D87F6ZCVE5NK</td>\n",
              "      <td>dll pa</td>\n",
              "      <td>0</td>\n",
              "      <td>0</td>\n",
              "      <td>1</td>\n",
              "      <td>1346976000</td>\n",
              "      <td>Not as Advertised</td>\n",
              "      <td>Product arrived labeled as Jumbo Salted Peanut...</td>\n",
              "    </tr>\n",
              "    <tr>\n",
              "      <th>2</th>\n",
              "      <td>3</td>\n",
              "      <td>0.091</td>\n",
              "      <td>0.754</td>\n",
              "      <td>0.155</td>\n",
              "      <td>0.8265</td>\n",
              "      <td>B000LQOCH0</td>\n",
              "      <td>ABXLMWJIXXAIN</td>\n",
              "      <td>Natalia Corres \"Natalia Corres\"</td>\n",
              "      <td>1</td>\n",
              "      <td>1</td>\n",
              "      <td>4</td>\n",
              "      <td>1219017600</td>\n",
              "      <td>\"Delight\" says it all</td>\n",
              "      <td>This is a confection that has been around a fe...</td>\n",
              "    </tr>\n",
              "    <tr>\n",
              "      <th>3</th>\n",
              "      <td>4</td>\n",
              "      <td>0.000</td>\n",
              "      <td>1.000</td>\n",
              "      <td>0.000</td>\n",
              "      <td>0.0000</td>\n",
              "      <td>B000UA0QIQ</td>\n",
              "      <td>A395BORC6FGVXV</td>\n",
              "      <td>Karl</td>\n",
              "      <td>3</td>\n",
              "      <td>3</td>\n",
              "      <td>2</td>\n",
              "      <td>1307923200</td>\n",
              "      <td>Cough Medicine</td>\n",
              "      <td>If you are looking for the secret ingredient i...</td>\n",
              "    </tr>\n",
              "    <tr>\n",
              "      <th>4</th>\n",
              "      <td>5</td>\n",
              "      <td>0.000</td>\n",
              "      <td>0.552</td>\n",
              "      <td>0.448</td>\n",
              "      <td>0.9468</td>\n",
              "      <td>B006K2ZZ7K</td>\n",
              "      <td>A1UQRSCLF8GW1T</td>\n",
              "      <td>Michael D. Bigham \"M. Wassir\"</td>\n",
              "      <td>0</td>\n",
              "      <td>0</td>\n",
              "      <td>5</td>\n",
              "      <td>1350777600</td>\n",
              "      <td>Great taffy</td>\n",
              "      <td>Great taffy at a great price.  There was a wid...</td>\n",
              "    </tr>\n",
              "  </tbody>\n",
              "</table>\n",
              "</div>"
            ],
            "text/plain": [
              "   Id    neg    neu    pos  compound   ProductId          UserId  \\\n",
              "0   1  0.000  0.695  0.305    0.9441  B001E4KFG0  A3SGXH7AUHU8GW   \n",
              "1   2  0.079  0.853  0.068   -0.1027  B00813GRG4  A1D87F6ZCVE5NK   \n",
              "2   3  0.091  0.754  0.155    0.8265  B000LQOCH0   ABXLMWJIXXAIN   \n",
              "3   4  0.000  1.000  0.000    0.0000  B000UA0QIQ  A395BORC6FGVXV   \n",
              "4   5  0.000  0.552  0.448    0.9468  B006K2ZZ7K  A1UQRSCLF8GW1T   \n",
              "\n",
              "                       ProfileName  HelpfulnessNumerator  \\\n",
              "0                       delmartian                     1   \n",
              "1                           dll pa                     0   \n",
              "2  Natalia Corres \"Natalia Corres\"                     1   \n",
              "3                             Karl                     3   \n",
              "4    Michael D. Bigham \"M. Wassir\"                     0   \n",
              "\n",
              "   HelpfulnessDenominator  Score        Time                Summary  \\\n",
              "0                       1      5  1303862400  Good Quality Dog Food   \n",
              "1                       0      1  1346976000      Not as Advertised   \n",
              "2                       1      4  1219017600  \"Delight\" says it all   \n",
              "3                       3      2  1307923200         Cough Medicine   \n",
              "4                       0      5  1350777600            Great taffy   \n",
              "\n",
              "                                                Text  \n",
              "0  I have bought several of the Vitality canned d...  \n",
              "1  Product arrived labeled as Jumbo Salted Peanut...  \n",
              "2  This is a confection that has been around a fe...  \n",
              "3  If you are looking for the secret ingredient i...  \n",
              "4  Great taffy at a great price.  There was a wid...  "
            ]
          },
          "execution_count": 15,
          "metadata": {},
          "output_type": "execute_result"
        }
      ],
      "source": [
        "# Now we have sentiment score and metadata\n",
        "vaders.head()"
      ]
    },
    {
      "cell_type": "markdown",
      "metadata": {
        "id": "oXz3cqRIbajo"
      },
      "source": [
        "## Plot VADER results"
      ]
    },
    {
      "cell_type": "code",
      "execution_count": null,
      "metadata": {
        "execution": {
          "iopub.execute_input": "2023-11-14T18:59:32.959173Z",
          "iopub.status.busy": "2023-11-14T18:59:32.958804Z",
          "iopub.status.idle": "2023-11-14T18:59:33.354989Z",
          "shell.execute_reply": "2023-11-14T18:59:33.353908Z",
          "shell.execute_reply.started": "2023-11-14T18:59:32.959130Z"
        },
        "trusted": true,
        "id": "_EHoaFUVbajo",
        "outputId": "1cdbabae-b5ab-4ffe-cb7f-54f4a14ce36c"
      },
      "outputs": [
        {
          "data": {
            "image/png": "[encoded data removed]",
            "text/plain": [
              "<Figure size 432x288 with 1 Axes>"
            ]
          },
          "metadata": {},
          "output_type": "display_data"
        }
      ],
      "source": [
        "ax = sns.barplot(data=vaders, x='Score', y='compound')\n",
        "ax.set_title('Compund Score by Amazon Star Review')\n",
        "plt.show()"
      ]
    },
    {
      "cell_type": "code",
      "execution_count": null,
      "metadata": {
        "execution": {
          "iopub.execute_input": "2023-11-14T18:59:34.873201Z",
          "iopub.status.busy": "2023-11-14T18:59:34.872856Z",
          "iopub.status.idle": "2023-11-14T18:59:36.074056Z",
          "shell.execute_reply": "2023-11-14T18:59:36.073079Z",
          "shell.execute_reply.started": "2023-11-14T18:59:34.873165Z"
        },
        "trusted": true,
        "id": "ApnQHWAJbajo",
        "outputId": "d343055d-9963-4efe-e8a1-9f0e197de559"
      },
      "outputs": [
        {
          "data": {
            "image/png": "[encoded data removed]",
            "text/plain": [
              "<Figure size 864x216 with 3 Axes>"
            ]
          },
          "metadata": {},
          "output_type": "display_data"
        }
      ],
      "source": [
        "fig, axs = plt.subplots(1, 3, figsize=(12, 3))\n",
        "sns.barplot(data=vaders, x='Score', y='pos', ax=axs[0])\n",
        "sns.barplot(data=vaders, x='Score', y='neu', ax=axs[1])\n",
        "sns.barplot(data=vaders, x='Score', y='neg', ax=axs[2])\n",
        "axs[0].set_title('Positive')\n",
        "axs[1].set_title('Neutral')\n",
        "axs[2].set_title('Negative')\n",
        "plt.tight_layout()\n",
        "plt.show()"
      ]
    }
  ],
  "metadata": {
    "kernelspec": {
      "display_name": "Python 3",
      "language": "python",
      "name": "python3"
    },
    "language_info": {
      "codemirror_mode": {
        "name": "ipython",
        "version": 3
      },
      "file_extension": ".py",
      "mimetype": "text/x-python",
      "name": "python",
      "nbconvert_exporter": "python",
      "pygments_lexer": "ipython3",
      "version": "3.7.12"
    },
    "colab": {
      "provenance": []
    }
  },
  "nbformat": 4,
  "nbformat_minor": 0
}